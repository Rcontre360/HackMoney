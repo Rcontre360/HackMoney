{
 "cells": [
  {
   "cell_type": "code",
   "execution_count": 14,
   "id": "997b7492",
   "metadata": {},
   "outputs": [],
   "source": [
    "import requests\n",
    "import json\n",
    "import pandas as pd"
   ]
  },
  {
   "cell_type": "code",
   "execution_count": 23,
   "id": "df1e113f",
   "metadata": {},
   "outputs": [],
   "source": []
  },
  {
   "cell_type": "code",
   "execution_count": 38,
   "id": "8304adb4",
   "metadata": {},
   "outputs": [],
   "source": [
    "data = {\n",
    "    \"operationName\": None,\n",
    "    \"query\": query,\n",
    "    \"variables\": {}\n",
    "}"
   ]
  },
  {
   "cell_type": "code",
   "execution_count": 39,
   "id": "f1b8de7e",
   "metadata": {},
   "outputs": [],
   "source": [
    "r = requests.post(url, json=data)"
   ]
  },
  {
   "cell_type": "code",
   "execution_count": 41,
   "id": "12597942",
   "metadata": {},
   "outputs": [],
   "source": [
    "result = r.json()"
   ]
  },
  {
   "cell_type": "code",
   "execution_count": 46,
   "id": "87e9702d",
   "metadata": {},
   "outputs": [],
   "source": [
    "data = pd.DataFrame(result['data']['exchanges'])"
   ]
  },
  {
   "cell_type": "code",
   "execution_count": 51,
   "id": "3767cf1f",
   "metadata": {},
   "outputs": [],
   "source": [
    "data['buyer'] = data['buyer'].apply(lambda x: x['address'])\n",
    "data['tokenSold'] = data['tokenSold'].apply(lambda x: x['symbol'])"
   ]
  },
  {
   "cell_type": "code",
   "execution_count": 53,
   "id": "4c69749f",
   "metadata": {},
   "outputs": [],
   "source": [
    "address = \"0xbf3f6477dbd514ef85b7d3ec6ac2205fd0962039\""
   ]
  },
  {
   "cell_type": "code",
   "execution_count": 54,
   "id": "f9f4d5c5",
   "metadata": {},
   "outputs": [
    {
     "data": {
      "text/html": [
       "<div>\n",
       "<style scoped>\n",
       "    .dataframe tbody tr th:only-of-type {\n",
       "        vertical-align: middle;\n",
       "    }\n",
       "\n",
       "    .dataframe tbody tr th {\n",
       "        vertical-align: top;\n",
       "    }\n",
       "\n",
       "    .dataframe thead th {\n",
       "        text-align: right;\n",
       "    }\n",
       "</style>\n",
       "<table border=\"1\" class=\"dataframe\">\n",
       "  <thead>\n",
       "    <tr style=\"text-align: right;\">\n",
       "      <th></th>\n",
       "      <th>id</th>\n",
       "      <th>buyer</th>\n",
       "      <th>tokenSold</th>\n",
       "      <th>amountSold</th>\n",
       "    </tr>\n",
       "  </thead>\n",
       "  <tbody>\n",
       "    <tr>\n",
       "      <th>1</th>\n",
       "      <td>e-0x0000b23d08f811089ff00556b90d3d875d59866451...</td>\n",
       "      <td>0xbf3f6477dbd514ef85b7d3ec6ac2205fd0962039</td>\n",
       "      <td>USDC</td>\n",
       "      <td>269171.1936</td>\n",
       "    </tr>\n",
       "    <tr>\n",
       "      <th>18</th>\n",
       "      <td>e-0x0004a0a7eed6a3a9cfb36851ce036e466c25fda6e0...</td>\n",
       "      <td>0xbf3f6477dbd514ef85b7d3ec6ac2205fd0962039</td>\n",
       "      <td>USDC</td>\n",
       "      <td>158461.7091</td>\n",
       "    </tr>\n",
       "  </tbody>\n",
       "</table>\n",
       "</div>"
      ],
      "text/plain": [
       "                                                   id  \\\n",
       "1   e-0x0000b23d08f811089ff00556b90d3d875d59866451...   \n",
       "18  e-0x0004a0a7eed6a3a9cfb36851ce036e466c25fda6e0...   \n",
       "\n",
       "                                         buyer tokenSold   amountSold  \n",
       "1   0xbf3f6477dbd514ef85b7d3ec6ac2205fd0962039      USDC  269171.1936  \n",
       "18  0xbf3f6477dbd514ef85b7d3ec6ac2205fd0962039      USDC  158461.7091  "
      ]
     },
     "execution_count": 54,
     "metadata": {},
     "output_type": "execute_result"
    }
   ],
   "source": [
    "data[data['buyer'] == address]"
   ]
  },
  {
   "cell_type": "markdown",
   "id": "39e9470c",
   "metadata": {},
   "source": [
    "## Curve Graph"
   ]
  },
  {
   "cell_type": "code",
   "execution_count": 59,
   "id": "365df14a",
   "metadata": {},
   "outputs": [],
   "source": [
    "API_KEY = \"91f1078177884a3a995c32cc3315ca3b\"\n",
    "url = \"https://gateway.thegraph.com/api/{}/subgraphs/id/4yx4rR6Kf8WH4RJPGhLSHojUxJzRWgEZb51iTran1sEG\".format(API_KEY)\n",
    "\n",
    "query = \"\"\"\n",
    "    query {\n",
    "      exchanges{\n",
    "        id \n",
    "        buyer {\n",
    "          address\n",
    "        }\n",
    "        tokenSold{\n",
    "          symbol\n",
    "        }\n",
    "        amountSold\n",
    "      }\n",
    "    }\n",
    "\"\"\"\n",
    "\n",
    "def get_data(address, url, query):\n",
    "    obj = {\n",
    "        \"operationName\": None,\n",
    "        \"query\": query,\n",
    "        \"variables\": {}\n",
    "    }\n",
    "    r = requests.post(url, json=obj)\n",
    "    result = r.json()\n",
    "    data = pd.DataFrame(result['data']['exchanges'])\n",
    "    data['buyer'] = data['buyer'].apply(lambda x: x['address'])\n",
    "    data['tokenSold'] = data['tokenSold'].apply(lambda x: x['symbol'])\n",
    "    data = data[data['buyer'] == address]\n",
    "    return data.to_json(orient='records')\n",
    "\n",
    "result = get_data(address, url, query)"
   ]
  },
  {
   "cell_type": "markdown",
   "id": "4cbd3770",
   "metadata": {},
   "source": [
    "## Compound V2 Subgraph"
   ]
  },
  {
   "cell_type": "code",
   "execution_count": 70,
   "id": "3c17a672",
   "metadata": {},
   "outputs": [],
   "source": [
    "url = \"https://api.thegraph.com/subgraphs/name/graphprotocol/compound-v2\"\n",
    "\n",
    "query = \"\"\"\n",
    "    query {\n",
    "      accounts {\n",
    "        id\n",
    "        hasBorrowed\n",
    "        totalBorrowValueInEth\n",
    "        totalCollateralValueInEth\n",
    "        tokens {\n",
    "          id\n",
    "          symbol      \n",
    "        }\n",
    "      }\n",
    "    }\n",
    "\"\"\"\n",
    "\n",
    "def get_data(address, url, query):\n",
    "    obj = {\n",
    "        \"operationName\": None,\n",
    "        \"query\": query,\n",
    "        \"variables\": {}\n",
    "    }\n",
    "    r = requests.post(url, json=obj)\n",
    "    result = r.json()\n",
    "    data = pd.DataFrame(result['data']['accounts'])\n",
    "    return data.to_json(orient='records')\n",
    "\n",
    "result = get_data(address, url, query)"
   ]
  },
  {
   "cell_type": "markdown",
   "id": "562b009a",
   "metadata": {},
   "source": [
    "## Uniswap V2 Subgraph"
   ]
  },
  {
   "cell_type": "code",
   "execution_count": 72,
   "id": "01294617",
   "metadata": {},
   "outputs": [],
   "source": [
    "url = \"https://api.thegraph.com/subgraphs/name/uniswap/uniswap-v2\"\n",
    "\n",
    "query = \"\"\"\n",
    "    query {\n",
    "      pairs {\n",
    "        id\n",
    "        totalSupply\n",
    "        token0 {\n",
    "          symbol\n",
    "          tradeVolume\n",
    "        }\n",
    "        token1 {\n",
    "          symbol\n",
    "          tradeVolume\n",
    "        }\n",
    "      }\n",
    "    }\n",
    "\"\"\"\n",
    "\n",
    "def get_data(address, url, query):\n",
    "    obj = {\n",
    "        \"operationName\": None,\n",
    "        \"query\": query,\n",
    "        \"variables\": {}\n",
    "    }\n",
    "    r = requests.post(url, json=obj)\n",
    "    result = r.json()\n",
    "    data = pd.DataFrame(result['data']['pairs'])\n",
    "    return data.to_json(orient='records')\n",
    "\n",
    "result = get_data(address, url, query)"
   ]
  },
  {
   "cell_type": "markdown",
   "id": "4e0496be",
   "metadata": {},
   "source": [
    "## Aave V2 Matic Subgraph"
   ]
  },
  {
   "cell_type": "code",
   "execution_count": 74,
   "id": "de3bff00",
   "metadata": {},
   "outputs": [],
   "source": [
    "url = \"https://api.thegraph.com/subgraphs/name/aave/aave-v2-matic\"\n",
    "\n",
    "query = \"\"\"\n",
    "    query {\n",
    "      users {\n",
    "        id\n",
    "        borrowedReservesCount\n",
    "        unclaimedRewards\n",
    "        lifetimeRewards\n",
    "        depositHistory {\n",
    "          id\n",
    "          amount\n",
    "        }\n",
    "        borrowHistory {\n",
    "          id\n",
    "          amount\n",
    "        }\n",
    "      }\n",
    "    }\n",
    "\"\"\"\n",
    "\n",
    "def get_data(address, url, query):\n",
    "    obj = {\n",
    "        \"operationName\": None,\n",
    "        \"query\": query,\n",
    "        \"variables\": {}\n",
    "    }\n",
    "    r = requests.post(url, json=obj)\n",
    "    result = r.json()\n",
    "    data = pd.DataFrame(result['data']['users'])\n",
    "    return data.to_json(orient='records')\n",
    "\n",
    "result = get_data(address, url, query)"
   ]
  },
  {
   "cell_type": "markdown",
   "id": "00306308",
   "metadata": {},
   "source": [
    "## Aave Protocol V2 Subgraph"
   ]
  },
  {
   "cell_type": "code",
   "execution_count": null,
   "id": "653a25ef",
   "metadata": {},
   "outputs": [],
   "source": [
    "url = \"https://api.thegraph.com/subgraphs/name/aave/protocol-v2\"\n",
    "\n",
    "query = \"\"\"\n",
    "    query {\n",
    "      users {\n",
    "        id\n",
    "        borrowedReservesCount\n",
    "        unclaimedRewards\n",
    "        lifetimeRewards\n",
    "        depositHistory {\n",
    "          id\n",
    "          amount\n",
    "        }\n",
    "        borrowHistory {\n",
    "          id\n",
    "          amount\n",
    "        }\n",
    "      }\n",
    "    }\n",
    "\"\"\"\n",
    "\n",
    "def get_data(address, url, query):\n",
    "    obj = {\n",
    "        \"operationName\": None,\n",
    "        \"query\": query,\n",
    "        \"variables\": {}\n",
    "    }\n",
    "    r = requests.post(url, json=obj)\n",
    "    result = r.json()\n",
    "    data = pd.DataFrame(result['data']['users'])\n",
    "    return data.to_json(orient='records')\n",
    "\n",
    "result = get_data(address, url, query)\n",
    "result_json = result.to_json(orient='records')"
   ]
  },
  {
   "cell_type": "markdown",
   "id": "c06bddf6",
   "metadata": {},
   "source": [
    "## SushiSwap Subgraph"
   ]
  },
  {
   "cell_type": "code",
   "execution_count": 76,
   "id": "c84e8743",
   "metadata": {},
   "outputs": [],
   "source": [
    "url = \"https://api.thegraph.com/subgraphs/name/sushiswap/sushiswap\"\n",
    "\n",
    "query = \"\"\"\n",
    "    query {\n",
    "      masterChefs(first: 5) {\n",
    "        id\n",
    "        totalAllocPoint\n",
    "        poolLength\n",
    "      }\n",
    "      masterChefPools(first: 5) {\n",
    "        id\n",
    "        balance\n",
    "        lpToken\n",
    "        allocPoint\n",
    "      }\n",
    "    }\n",
    "\"\"\"\n",
    "\n",
    "def get_data(address, url, query):\n",
    "    obj = {\n",
    "        \"operationName\": None,\n",
    "        \"query\": query,\n",
    "        \"variables\": {}\n",
    "    }\n",
    "    r = requests.post(url, json=obj)\n",
    "    result = r.json()\n",
    "    data1 = pd.DataFrame(result['data']['masterChefs'])\n",
    "    data2 = pd.DataFrame(result['data']['masterChefPools'])\n",
    "    return (data1, data2)\n",
    "\n",
    "result = get_data(address, url, query)"
   ]
  },
  {
   "cell_type": "markdown",
   "id": "34b7bdeb",
   "metadata": {},
   "source": [
    "## Balancer Subgraph"
   ]
  },
  {
   "cell_type": "code",
   "execution_count": 80,
   "id": "f235bd46",
   "metadata": {},
   "outputs": [],
   "source": [
    "url = \"https://api.thegraph.com/subgraphs/name/balancer-labs/balancer\"\n",
    "\n",
    "query = \"\"\"\n",
    "    query {\n",
    "      users {\n",
    "        id\n",
    "        sharesOwned {\n",
    "          id\n",
    "          balance\n",
    "          poolId {\n",
    "            id\n",
    "            symbol\n",
    "            totalShares\n",
    "          }\n",
    "        }\n",
    "        swaps {\n",
    "          tokenIn\n",
    "          tokenOut\n",
    "        }\n",
    "      }\n",
    "    }\n",
    "\"\"\"\n",
    "\n",
    "def get_data(address, url, query):\n",
    "    obj = {\n",
    "        \"operationName\": None,\n",
    "        \"query\": query,\n",
    "        \"variables\": {}\n",
    "    }\n",
    "    r = requests.post(url, json=obj)\n",
    "    result = r.json()\n",
    "    data = pd.DataFrame(result['data']['users'])\n",
    "    return data\n",
    "\n",
    "result = get_data(address, url, query)\n",
    "result_json = result.to_json(orient='records')"
   ]
  },
  {
   "cell_type": "markdown",
   "id": "0001d038",
   "metadata": {},
   "source": [
    "## USDC Subgraph"
   ]
  },
  {
   "cell_type": "code",
   "execution_count": 82,
   "id": "95e1c804",
   "metadata": {},
   "outputs": [],
   "source": [
    "url = \"https://api.thegraph.com/subgraphs/name/centrehq/usdc\"\n",
    "\n",
    "query = \"\"\"\n",
    "    query {\n",
    "      users {\n",
    "        id\n",
    "        address\n",
    "        balance\n",
    "        transactionCount\n",
    "      }\n",
    "    }\n",
    "\"\"\"\n",
    "\n",
    "def get_data(address, url, query):\n",
    "    obj = {\n",
    "        \"operationName\": None,\n",
    "        \"query\": query,\n",
    "        \"variables\": {}\n",
    "    }\n",
    "    r = requests.post(url, json=obj)\n",
    "    result = r.json()\n",
    "    data = pd.DataFrame(result['data']['users'])\n",
    "    return data\n",
    "\n",
    "result = get_data(address, url, query)\n",
    "result_json = result.to_json(orient='records')"
   ]
  },
  {
   "cell_type": "code",
   "execution_count": 83,
   "id": "a31c995d",
   "metadata": {},
   "outputs": [
    {
     "data": {
      "text/plain": [
       "'[{\"id\":\"0x0000000000000000000000000000000000000000\",\"address\":\"0x0000000000000000000000000000000000000000\",\"balance\":\"-43913903049909550\",\"transactionCount\":127689},{\"id\":\"0x0000000000000000000000000000000000000001\",\"address\":\"0x0000000000000000000000000000000000000001\",\"balance\":\"7411351380\",\"transactionCount\":10},{\"id\":\"0x0000000000000000000000000000000000000002\",\"address\":\"0x0000000000000000000000000000000000000002\",\"balance\":\"15000000\",\"transactionCount\":1},{\"id\":\"0x00000000000000000000000000000000000001b1\",\"address\":\"0x00000000000000000000000000000000000001b1\",\"balance\":\"42500000000\",\"transactionCount\":1},{\"id\":\"0x00000000000000000000000000000000000002a9\",\"address\":\"0x00000000000000000000000000000000000002a9\",\"balance\":\"2265000000\",\"transactionCount\":1},{\"id\":\"0x00000000000000000000000000000000000009e0\",\"address\":\"0x00000000000000000000000000000000000009e0\",\"balance\":\"3547057680\",\"transactionCount\":1},{\"id\":\"0x0000000000000000000000000000000000000bac\",\"address\":\"0x0000000000000000000000000000000000000bac\",\"balance\":\"1003000000\",\"transactionCount\":1},{\"id\":\"0x0000000000000000000000000000000000001010\",\"address\":\"0x0000000000000000000000000000000000001010\",\"balance\":\"178377200\",\"transactionCount\":2},{\"id\":\"0x00000000000000000000000000000000000015c3\",\"address\":\"0x00000000000000000000000000000000000015c3\",\"balance\":\"5672870311\",\"transactionCount\":1},{\"id\":\"0x0000000000000000000000000000000000002ac2\",\"address\":\"0x0000000000000000000000000000000000002ac2\",\"balance\":\"1010000000\",\"transactionCount\":1},{\"id\":\"0x000000000000000000000000000000000000dead\",\"address\":\"0x000000000000000000000000000000000000dead\",\"balance\":\"21039083996\",\"transactionCount\":37},{\"id\":\"0x000000000000000000000000000000000001e094\",\"address\":\"0x000000000000000000000000000000000001e094\",\"balance\":\"1300000\",\"transactionCount\":1},{\"id\":\"0x0000000000000000000000000000000000365421\",\"address\":\"0x0000000000000000000000000000000000365421\",\"balance\":\"4479943\",\"transactionCount\":1},{\"id\":\"0x0000000000000000000000000000073988196145\",\"address\":\"0x0000000000000000000000000000073988196145\",\"balance\":\"21107150\",\"transactionCount\":1},{\"id\":\"0x0000000000000000000000002c7bf76327f836d8\",\"address\":\"0x0000000000000000000000002c7bf76327f836d8\",\"balance\":\"382011792\",\"transactionCount\":1},{\"id\":\"0x0000000000000000000000005168742728627906\",\"address\":\"0x0000000000000000000000005168742728627906\",\"balance\":\"18021780\",\"transactionCount\":1},{\"id\":\"0x0000000000000000000033773166bbbf52efdc8d\",\"address\":\"0x0000000000000000000033773166bbbf52efdc8d\",\"balance\":\"25030000\",\"transactionCount\":1},{\"id\":\"0x000000000000006f6502b7f2bbac8c30a3f67e9a\",\"address\":\"0x000000000000006f6502b7f2bbac8c30a3f67e9a\",\"balance\":\"0\",\"transactionCount\":4284},{\"id\":\"0x00000000000003441d59dde9a90bffb1cd3fabf1\",\"address\":\"0x00000000000003441d59dde9a90bffb1cd3fabf1\",\"balance\":\"0\",\"transactionCount\":1386},{\"id\":\"0x00000000000003c98e6a44a835cb776385bed207\",\"address\":\"0x00000000000003c98e6a44a835cb776385bed207\",\"balance\":\"0\",\"transactionCount\":19},{\"id\":\"0x000000000000084e91743124a982076c59f10084\",\"address\":\"0x000000000000084e91743124a982076c59f10084\",\"balance\":\"1\",\"transactionCount\":2},{\"id\":\"0x0000000000000d9054f605ca65a2647c2b521422\",\"address\":\"0x0000000000000d9054f605ca65a2647c2b521422\",\"balance\":\"0\",\"transactionCount\":121},{\"id\":\"0x0000000000000eb4ec62758aae93400b3e5f7f18\",\"address\":\"0x0000000000000eb4ec62758aae93400b3e5f7f18\",\"balance\":\"2108280837\",\"transactionCount\":15677},{\"id\":\"0x000000000000123ca35c69ba3f852a46b2a27c94\",\"address\":\"0x000000000000123ca35c69ba3f852a46b2a27c94\",\"balance\":\"0\",\"transactionCount\":4},{\"id\":\"0x00000000000017c75025d397b91d284bbe8fc7f2\",\"address\":\"0x00000000000017c75025d397b91d284bbe8fc7f2\",\"balance\":\"0\",\"transactionCount\":2031},{\"id\":\"0x000000000000294a0d3b43ec78199a84587ae012\",\"address\":\"0x000000000000294a0d3b43ec78199a84587ae012\",\"balance\":\"1\",\"transactionCount\":2},{\"id\":\"0x0000000000002cb29260612e744ec57d9d1fc5c6\",\"address\":\"0x0000000000002cb29260612e744ec57d9d1fc5c6\",\"balance\":\"0\",\"transactionCount\":2},{\"id\":\"0x0000000000002d534ff79e9c69e7fcc742f0be83\",\"address\":\"0x0000000000002d534ff79e9c69e7fcc742f0be83\",\"balance\":\"0\",\"transactionCount\":4664},{\"id\":\"0x0000000000003f5e74c1ba8a66b48e6f3d71ae82\",\"address\":\"0x0000000000003f5e74c1ba8a66b48e6f3d71ae82\",\"balance\":\"159431584383\",\"transactionCount\":1746},{\"id\":\"0x0000000000004946c0e9f43f4dee607b0ef1fa1c\",\"address\":\"0x0000000000004946c0e9f43f4dee607b0ef1fa1c\",\"balance\":\"50000000\",\"transactionCount\":1},{\"id\":\"0x0000000000005117dd3a72e64a705198753fdd54\",\"address\":\"0x0000000000005117dd3a72e64a705198753fdd54\",\"balance\":\"0\",\"transactionCount\":13566},{\"id\":\"0x00000000000064c443ef440577c26525a3c34a30\",\"address\":\"0x00000000000064c443ef440577c26525a3c34a30\",\"balance\":\"0\",\"transactionCount\":3346},{\"id\":\"0x00000000000067afd7fa546d3f63d4e53cdb8fa4\",\"address\":\"0x00000000000067afd7fa546d3f63d4e53cdb8fa4\",\"balance\":\"0\",\"transactionCount\":22},{\"id\":\"0x0000000000007f150bd6f54c40a34d7c3d5e9f56\",\"address\":\"0x0000000000007f150bd6f54c40a34d7c3d5e9f56\",\"balance\":\"5743036\",\"transactionCount\":229039},{\"id\":\"0x00000000000080c886232e9b7ebbfb942b5987aa\",\"address\":\"0x00000000000080c886232e9b7ebbfb942b5987aa\",\"balance\":\"1303193\",\"transactionCount\":8981},{\"id\":\"0x0000000000008422676eb92fd1807c6271d3cd0a\",\"address\":\"0x0000000000008422676eb92fd1807c6271d3cd0a\",\"balance\":\"0\",\"transactionCount\":5},{\"id\":\"0x0000000000009480cded7b47d438e73edf0f67e5\",\"address\":\"0x0000000000009480cded7b47d438e73edf0f67e5\",\"balance\":\"0\",\"transactionCount\":244},{\"id\":\"0x00000000000094b93daa49fc48bec11e7714c6c1\",\"address\":\"0x00000000000094b93daa49fc48bec11e7714c6c1\",\"balance\":\"29610000\",\"transactionCount\":1},{\"id\":\"0x000000000000951f50b2b29e7afd3942951b7911\",\"address\":\"0x000000000000951f50b2b29e7afd3942951b7911\",\"balance\":\"0\",\"transactionCount\":62},{\"id\":\"0x000000000000abe945c436595ce765a8a261317b\",\"address\":\"0x000000000000abe945c436595ce765a8a261317b\",\"balance\":\"0\",\"transactionCount\":4152},{\"id\":\"0x000000000000cb53d776774284822b1298ade47f\",\"address\":\"0x000000000000cb53d776774284822b1298ade47f\",\"balance\":\"0\",\"transactionCount\":390},{\"id\":\"0x000000000000db8216f106d6f9cb70a1b9954d1d\",\"address\":\"0x000000000000db8216f106d6f9cb70a1b9954d1d\",\"balance\":\"0\",\"transactionCount\":3},{\"id\":\"0x000000000000deab340f067535869a0e5226e58a\",\"address\":\"0x000000000000deab340f067535869a0e5226e58a\",\"balance\":\"0\",\"transactionCount\":253},{\"id\":\"0x000000000000def7d243dec5c1ab64be386c3cd5\",\"address\":\"0x000000000000def7d243dec5c1ab64be386c3cd5\",\"balance\":\"0\",\"transactionCount\":86},{\"id\":\"0x00000000000123685885532dcb685c442dc83126\",\"address\":\"0x00000000000123685885532dcb685c442dc83126\",\"balance\":\"29793352\",\"transactionCount\":1274},{\"id\":\"0x0000000000019fd1b96f59db200a0a54f5c63726\",\"address\":\"0x0000000000019fd1b96f59db200a0a54f5c63726\",\"balance\":\"40000000\",\"transactionCount\":1},{\"id\":\"0x00000000000360176d958e11c140308cd0863679\",\"address\":\"0x00000000000360176d958e11c140308cd0863679\",\"balance\":\"0\",\"transactionCount\":2},{\"id\":\"0x0000000000036414940324055c43e75f56b7d016\",\"address\":\"0x0000000000036414940324055c43e75f56b7d016\",\"balance\":\"142832666\",\"transactionCount\":33},{\"id\":\"0x000000000004d7463d0f9c77383600bc82d612f5\",\"address\":\"0x000000000004d7463d0f9c77383600bc82d612f5\",\"balance\":\"0\",\"transactionCount\":10},{\"id\":\"0x0000000000051666bbfbb42925c3ee5d50cf6b10\",\"address\":\"0x0000000000051666bbfbb42925c3ee5d50cf6b10\",\"balance\":\"62571\",\"transactionCount\":3549},{\"id\":\"0x000000000006553135e7257017eb200bea3a8dfc\",\"address\":\"0x000000000006553135e7257017eb200bea3a8dfc\",\"balance\":\"0\",\"transactionCount\":4},{\"id\":\"0x0000000000078c65a676f9a1f2ae66db0cbdff48\",\"address\":\"0x0000000000078c65a676f9a1f2ae66db0cbdff48\",\"balance\":\"0\",\"transactionCount\":2},{\"id\":\"0x0000000000085d4780b73119b644ae5ecd22b376\",\"address\":\"0x0000000000085d4780b73119b644ae5ecd22b376\",\"balance\":\"1000000\",\"transactionCount\":1},{\"id\":\"0x000000000008e4db6a6194c6957df47e30970dc2\",\"address\":\"0x000000000008e4db6a6194c6957df47e30970dc2\",\"balance\":\"2167554977\",\"transactionCount\":7},{\"id\":\"0x00000000000a3ae1129ec96737bfc0f745767a70\",\"address\":\"0x00000000000a3ae1129ec96737bfc0f745767a70\",\"balance\":\"0\",\"transactionCount\":8},{\"id\":\"0x00000000000a47b1298f18cf67de547bbe0d723f\",\"address\":\"0x00000000000a47b1298f18cf67de547bbe0d723f\",\"balance\":\"4\",\"transactionCount\":134},{\"id\":\"0x00000000000c239647dfd1e5328ff2fb680b6ccc\",\"address\":\"0x00000000000c239647dfd1e5328ff2fb680b6ccc\",\"balance\":\"1000000\",\"transactionCount\":1},{\"id\":\"0x00000000000cd56832ce5dfbcbff02e7ec639bc9\",\"address\":\"0x00000000000cd56832ce5dfbcbff02e7ec639bc9\",\"balance\":\"32817772713\",\"transactionCount\":17},{\"id\":\"0x00000000000e1d0dabf7b7c7b68866fc940d0db8\",\"address\":\"0x00000000000e1d0dabf7b7c7b68866fc940d0db8\",\"balance\":\"20942738\",\"transactionCount\":2262},{\"id\":\"0x00000000000f45b418291a68f2646d0b1a303a1c\",\"address\":\"0x00000000000f45b418291a68f2646d0b1a303a1c\",\"balance\":\"0\",\"transactionCount\":28},{\"id\":\"0x00000000000fa907d6119522f807d6d7b4219c0f\",\"address\":\"0x00000000000fa907d6119522f807d6d7b4219c0f\",\"balance\":\"0\",\"transactionCount\":2},{\"id\":\"0x000000000010ca868c3b57d89b80fc66f7257c29\",\"address\":\"0x000000000010ca868c3b57d89b80fc66f7257c29\",\"balance\":\"0\",\"transactionCount\":2},{\"id\":\"0x0000000000126f0ba49fbb414edc7041d1166ff4\",\"address\":\"0x0000000000126f0ba49fbb414edc7041d1166ff4\",\"balance\":\"0\",\"transactionCount\":7},{\"id\":\"0x0000000000245be4f15f4ff1686d196b8f55de63\",\"address\":\"0x0000000000245be4f15f4ff1686d196b8f55de63\",\"balance\":\"180421\",\"transactionCount\":36},{\"id\":\"0x000000000025d4386f7fb58984cbe110aee3a4c4\",\"address\":\"0x000000000025d4386f7fb58984cbe110aee3a4c4\",\"balance\":\"0\",\"transactionCount\":5344},{\"id\":\"0x00000000002664633b221687a4ec73d78328d4b2\",\"address\":\"0x00000000002664633b221687a4ec73d78328d4b2\",\"balance\":\"1\",\"transactionCount\":90},{\"id\":\"0x000000000027d2efc283613d0c3e24a8b430c4d8\",\"address\":\"0x000000000027d2efc283613d0c3e24a8b430c4d8\",\"balance\":\"0\",\"transactionCount\":312},{\"id\":\"0x000000000029f5c1eee7c85c30c0e40197fbec9b\",\"address\":\"0x000000000029f5c1eee7c85c30c0e40197fbec9b\",\"balance\":\"0\",\"transactionCount\":1082},{\"id\":\"0x00000000002c1066b322ff02ad10e8901161804c\",\"address\":\"0x00000000002c1066b322ff02ad10e8901161804c\",\"balance\":\"66\",\"transactionCount\":386},{\"id\":\"0x00000000002d383933aa1609f11d0afa4d5ea90a\",\"address\":\"0x00000000002d383933aa1609f11d0afa4d5ea90a\",\"balance\":\"27160425283\",\"transactionCount\":31},{\"id\":\"0x00000000003503bad07dc2c8027052c5880d46cc\",\"address\":\"0x00000000003503bad07dc2c8027052c5880d46cc\",\"balance\":\"1\",\"transactionCount\":58},{\"id\":\"0x000000000035b5e5ad9019092c665357240f594e\",\"address\":\"0x000000000035b5e5ad9019092c665357240f594e\",\"balance\":\"1656240\",\"transactionCount\":6033},{\"id\":\"0x0000000000377d181a0ebd08590c6b399b272000\",\"address\":\"0x0000000000377d181a0ebd08590c6b399b272000\",\"balance\":\"0\",\"transactionCount\":2},{\"id\":\"0x00000000003b3cc22af3ae1eac0440bcee416b40\",\"address\":\"0x00000000003b3cc22af3ae1eac0440bcee416b40\",\"balance\":\"356\",\"transactionCount\":8628},{\"id\":\"0x00000000003e04625c9001717346dd811ae5eba2\",\"address\":\"0x00000000003e04625c9001717346dd811ae5eba2\",\"balance\":\"0\",\"transactionCount\":29},{\"id\":\"0x000000000041de9bbbb3618b341e06e701e7902a\",\"address\":\"0x000000000041de9bbbb3618b341e06e701e7902a\",\"balance\":\"0\",\"transactionCount\":2},{\"id\":\"0x0000000000438f975cbde76d5fdd1aa76be46577\",\"address\":\"0x0000000000438f975cbde76d5fdd1aa76be46577\",\"balance\":\"0\",\"transactionCount\":952},{\"id\":\"0x00000000004eb5fb048311a4bac1b9536f4bf5a1\",\"address\":\"0x00000000004eb5fb048311a4bac1b9536f4bf5a1\",\"balance\":\"530836\",\"transactionCount\":10},{\"id\":\"0x000000000051d07a4fb3bd10121a343d85818da6\",\"address\":\"0x000000000051d07a4fb3bd10121a343d85818da6\",\"balance\":\"10002142\",\"transactionCount\":6},{\"id\":\"0x000000000057e8abd581828a2b40076852c0ba6e\",\"address\":\"0x000000000057e8abd581828a2b40076852c0ba6e\",\"balance\":\"0\",\"transactionCount\":2},{\"id\":\"0x00000000005dbcb0d0513fcda746382fe8a53468\",\"address\":\"0x00000000005dbcb0d0513fcda746382fe8a53468\",\"balance\":\"5880090016\",\"transactionCount\":110},{\"id\":\"0x00000000005ef87f8ca7014309ece7260bbcdaeb\",\"address\":\"0x00000000005ef87f8ca7014309ece7260bbcdaeb\",\"balance\":\"0\",\"transactionCount\":185},{\"id\":\"0x0000000000747cfcc3e576a4356e97bb21b67e75\",\"address\":\"0x0000000000747cfcc3e576a4356e97bb21b67e75\",\"balance\":\"0\",\"transactionCount\":2},{\"id\":\"0x000000000075a43abafc7c8ac407c6ce74f3cc28\",\"address\":\"0x000000000075a43abafc7c8ac407c6ce74f3cc28\",\"balance\":\"0\",\"transactionCount\":3724},{\"id\":\"0x0000000000790b928b2ba74d7f53a2079e6a131f\",\"address\":\"0x0000000000790b928b2ba74d7f53a2079e6a131f\",\"balance\":\"0\",\"transactionCount\":8},{\"id\":\"0x000000000081105ffd4392520dd13c4c70d95d19\",\"address\":\"0x000000000081105ffd4392520dd13c4c70d95d19\",\"balance\":\"0\",\"transactionCount\":32},{\"id\":\"0x000000000088387c42fe85a60df4dce8e34eea4e\",\"address\":\"0x000000000088387c42fe85a60df4dce8e34eea4e\",\"balance\":\"10000000\",\"transactionCount\":1},{\"id\":\"0x0000000000884a0e1fb44f9e24fa3bdb19514fae\",\"address\":\"0x0000000000884a0e1fb44f9e24fa3bdb19514fae\",\"balance\":\"1\",\"transactionCount\":2392},{\"id\":\"0x000000000088e0120f9e6652cc058aec07564f69\",\"address\":\"0x000000000088e0120f9e6652cc058aec07564f69\",\"balance\":\"2622092\",\"transactionCount\":7},{\"id\":\"0x00000000008943c65caf789fffcf953be156f6f8\",\"address\":\"0x00000000008943c65caf789fffcf953be156f6f8\",\"balance\":\"666655634\",\"transactionCount\":254},{\"id\":\"0x00000000008c1ed3b68ae8bd7e74e595bd11b066\",\"address\":\"0x00000000008c1ed3b68ae8bd7e74e595bd11b066\",\"balance\":\"56005285\",\"transactionCount\":2},{\"id\":\"0x00000000008c4fb1c916e0c88fd4cc402d935e7d\",\"address\":\"0x00000000008c4fb1c916e0c88fd4cc402d935e7d\",\"balance\":\"2811643836852\",\"transactionCount\":23428},{\"id\":\"0x00000000009a41862f3b2b0c688b7c0d1940511e\",\"address\":\"0x00000000009a41862f3b2b0c688b7c0d1940511e\",\"balance\":\"0\",\"transactionCount\":53},{\"id\":\"0x00000000009c7f96284472465e1b5c44e8cfcda1\",\"address\":\"0x00000000009c7f96284472465e1b5c44e8cfcda1\",\"balance\":\"94\",\"transactionCount\":158},{\"id\":\"0x00000000009e650313519698976d764810112681\",\"address\":\"0x00000000009e650313519698976d764810112681\",\"balance\":\"0\",\"transactionCount\":2},{\"id\":\"0x0000000000a1c7212a1c129512d80eb30d14dc08\",\"address\":\"0x0000000000a1c7212a1c129512d80eb30d14dc08\",\"balance\":\"0\",\"transactionCount\":46},{\"id\":\"0x0000000000a3c3372d54a627fa96035ec3f8f90f\",\"address\":\"0x0000000000a3c3372d54a627fa96035ec3f8f90f\",\"balance\":\"0\",\"transactionCount\":2},{\"id\":\"0x0000000000a465c1748042c300df063a877546ea\",\"address\":\"0x0000000000a465c1748042c300df063a877546ea\",\"balance\":\"0\",\"transactionCount\":68},{\"id\":\"0x0000000000a81071b9a5f621bacd53ba8bb9b890\",\"address\":\"0x0000000000a81071b9a5f621bacd53ba8bb9b890\",\"balance\":\"0\",\"transactionCount\":2},{\"id\":\"0x0000000000a8fb09af944ab3baf7a9b3e1ab29d8\",\"address\":\"0x0000000000a8fb09af944ab3baf7a9b3e1ab29d8\",\"balance\":\"0\",\"transactionCount\":8190}]'"
      ]
     },
     "execution_count": 83,
     "metadata": {},
     "output_type": "execute_result"
    }
   ],
   "source": []
  },
  {
   "cell_type": "code",
   "execution_count": null,
   "id": "2502a360",
   "metadata": {},
   "outputs": [],
   "source": []
  }
 ],
 "metadata": {
  "kernelspec": {
   "display_name": "Python 3",
   "language": "python",
   "name": "python3"
  },
  "language_info": {
   "codemirror_mode": {
    "name": "ipython",
    "version": 3
   },
   "file_extension": ".py",
   "mimetype": "text/x-python",
   "name": "python",
   "nbconvert_exporter": "python",
   "pygments_lexer": "ipython3",
   "version": "3.8.8"
  }
 },
 "nbformat": 4,
 "nbformat_minor": 5
}
